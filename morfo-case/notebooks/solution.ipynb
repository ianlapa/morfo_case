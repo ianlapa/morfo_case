{
 "cells": [
  {
   "cell_type": "markdown",
   "id": "fa4f85ff",
   "metadata": {},
   "source": [
    "# Question 7 - OQ – How does the code handle corrupted image files?\n",
    "\n",
    "To ensure robustness, the analysis pipeline should handle corrupted or unreadable image files.\n",
    "\n",
    "For this, we can wrap the image loading logic in a `try/except` block inside the `analyze_batch()` function:\n",
    "\n",
    "```python\n",
    "try:\n",
    "    img = np.load(filepath)\n",
    "except Exception as e:\n",
    "    print(f\"⚠️ Skipping corrupted file {filename}: {e}\")\n",
    "    continue\n"
   ]
  }
 ],
 "metadata": {
  "language_info": {
   "name": "python"
  }
 },
 "nbformat": 4,
 "nbformat_minor": 5
}
